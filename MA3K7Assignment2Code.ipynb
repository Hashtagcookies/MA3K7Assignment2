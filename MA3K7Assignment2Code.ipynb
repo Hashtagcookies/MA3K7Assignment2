{
 "cells": [
  {
   "cell_type": "code",
   "execution_count": 1,
   "id": "31daff80-23e4-498b-8d1a-4de9e65984d9",
   "metadata": {},
   "outputs": [],
   "source": [
    "import numpy as np\n",
    "import matplotlib.pyplot as plt\n",
    "import random"
   ]
  },
  {
   "cell_type": "code",
   "execution_count": 2,
   "id": "9367ad8e-a526-46b4-8825-8f3e9afd80b8",
   "metadata": {},
   "outputs": [],
   "source": [
    "def GenMatrix(n):\n",
    "    \n",
    "    matrix = np.zeros([n,n])\n",
    "\n",
    "    numOfOnes = int(n**2/2)\n",
    "    currentOnes = 0\n",
    "    \n",
    "    while currentOnes < numOfOnes:\n",
    "        randrow = random.randint(0, n-1)\n",
    "        randcol = random.randint(0, n-1)\n",
    "\n",
    "        if matrix[randrow][randcol] == 0:\n",
    "            matrix[randrow][randcol] = 1\n",
    "            currentOnes +=1\n",
    "    return matrix"
   ]
  },
  {
   "cell_type": "code",
   "execution_count": 3,
   "id": "07c82b7e-0ac8-4802-b84b-96b27555b76e",
   "metadata": {},
   "outputs": [],
   "source": [
    "def GetWinLoss(n):\n",
    "\n",
    "    WinLoss = []\n",
    "    for j in range(0, 100):\n",
    "        win = 0\n",
    "        loss = 0\n",
    "        for i in range(0, 100):\n",
    "            det = np.linalg.det(GenMatrix(n))\n",
    "\n",
    "            if det == 0: # Win\n",
    "                win +=1\n",
    "            else: # Lose\n",
    "                loss +=1\n",
    "\n",
    "        WinLoss.append([win, loss])\n",
    "\n",
    "    return WinLoss"
   ]
  },
  {
   "cell_type": "code",
   "execution_count": 8,
   "id": "6fc4a3e1-a89d-47fc-a1d9-2fcc618623d3",
   "metadata": {},
   "outputs": [
    {
     "name": "stdout",
     "output_type": "stream",
     "text": [
      "n = 1\n",
      "[100.   0.]\n",
      "\n",
      "n = 2\n",
      "[66.02 33.98]\n",
      "\n",
      "n = 3\n",
      "[70.84 29.16]\n",
      "\n",
      "n = 4\n",
      "[58.65 41.35]\n",
      "\n",
      "n = 5\n",
      "[59.66 40.34]\n",
      "\n",
      "n = 6\n",
      "[53.62 46.38]\n",
      "\n",
      "n = 7\n",
      "[49.81 50.19]\n",
      "\n"
     ]
    }
   ],
   "source": [
    "for n in range(1, 8):\n",
    "    winloss = GetWinLoss(n)\n",
    "    winrate = np.mean(winloss, axis=0)\n",
    "    print(\"n = \" + str(n))\n",
    "    print(winrate)\n",
    "    print()"
   ]
  },
  {
   "cell_type": "markdown",
   "id": "ab461af3-11d1-4202-af82-dd3e906e9952",
   "metadata": {},
   "source": [
    "The winrate when playing at complete random with respect to dimension, starting with dimension n=1: 100, 66.67, 71.5, 58.5, 59.5 54, 49. At n=7, the chances of winning at random are less than 50%.\n",
    "The way to calculate would be to consider all possible nxn matrices with half the values being 1 and the other half being 0 and getting a more accurate winrate, however I would say this is still relatively accurate up to n=7. \n",
    "\n",
    "This strategy, or lack thereof, is good for n<7; and in the case of n=2, if played with strategy is also 100% win. However, this also assumes that player \"1\" is also playing at random."
   ]
  },
  {
   "cell_type": "markdown",
   "id": "12f5da92-ef87-4c63-9f9b-e2eaf294b7c9",
   "metadata": {},
   "source": [
    "If we actually try and consider some strategy, we need some understand some \"forcing\" cases: conditions, if met, that result in a singular matrix. Some simple cases would be an all zero row or column, this would result in a singular matrix. Another case would be that the matrix is not linearly independent, which is kind of an extension of zero row/column as row/column operations (exculding scaling) do not effect the determinant."
   ]
  },
  {
   "cell_type": "code",
   "execution_count": 40,
   "id": "0f71e59c-14cb-4f3a-8a31-ada4c69df33e",
   "metadata": {},
   "outputs": [
    {
     "name": "stdout",
     "output_type": "stream",
     "text": [
      "[[-2. -2.]\n",
      " [-2. -2.]]\n",
      "\n",
      "[[ 0. -2.]\n",
      " [-2. -2.]]\n",
      "\n",
      "[[ 0. -2.]\n",
      " [ 1. -2.]]\n",
      "\n",
      "[[ 0.  0.]\n",
      " [ 1. -2.]]\n",
      "\n"
     ]
    }
   ],
   "source": [
    "# In the case of n=2\n",
    "n = 2\n",
    "\n",
    "matrix = -2*np.ones([n,n]) # Set the matrix essentially blank\n",
    "print(matrix)\n",
    "print()\n",
    "\n",
    "matrix[0][0] = 0 # Set the top left to 0\n",
    "print(matrix)\n",
    "print()\n",
    "\n",
    "matrix[1][0] = 1 # Player \"1\" has to prevent the column being a 0 column\n",
    "print(matrix)\n",
    "print()\n",
    "\n",
    "matrix[0][1] = 0 # Set the top right to 0\n",
    "print(matrix)\n",
    "print()"
   ]
  },
  {
   "cell_type": "markdown",
   "id": "9c34f987-f92d-4b5c-a3c9-db9901dfe182",
   "metadata": {},
   "source": [
    "This is a forced case in terms of a 2x2 matrix as player \"1\" cannot prevent both either the row becoming zero or the column and thus for a 2x2 case, player \"0\" can always win."
   ]
  },
  {
   "cell_type": "code",
   "execution_count": 48,
   "id": "e2566018-1fe5-4994-b629-539de792ace0",
   "metadata": {},
   "outputs": [
    {
     "name": "stdout",
     "output_type": "stream",
     "text": [
      "[[-2. -2. -2.]\n",
      " [-2.  0. -2.]\n",
      " [-2. -2. -2.]]\n",
      "\n",
      "[[-2.  1. -2.]\n",
      " [-2.  0. -2.]\n",
      " [-2. -2. -2.]]\n",
      "\n",
      "[[-2.  1. -2.]\n",
      " [ 0.  0. -2.]\n",
      " [-2. -2. -2.]]\n",
      "\n",
      "[[-2.  1. -2.]\n",
      " [ 0.  0.  1.]\n",
      " [-2. -2. -2.]]\n",
      "\n",
      "[[-2.  1. -2.]\n",
      " [ 0.  0.  1.]\n",
      " [ 0. -2. -2.]]\n",
      "\n",
      "[[ 1.  1. -2.]\n",
      " [ 0.  0.  1.]\n",
      " [ 0. -2. -2.]]\n",
      "\n",
      "[[ 1.  1. -2.]\n",
      " [ 0.  0.  1.]\n",
      " [ 0.  0. -2.]]\n",
      "\n",
      "[[ 1.  1. -2.]\n",
      " [ 0.  0.  1.]\n",
      " [ 0.  0.  1.]]\n",
      "\n",
      "[[1. 1. 0.]\n",
      " [0. 0. 1.]\n",
      " [0. 0. 1.]]\n",
      "\n"
     ]
    }
   ],
   "source": [
    "# In the case of n=3\n",
    "n=3\n",
    "\n",
    "matrix = -2*np.ones([n,n])\n",
    "\n",
    "# Suppose we set the middle value to 0 first\n",
    "\n",
    "matrix[1][1] = 0\n",
    "print(matrix)\n",
    "print()\n",
    "\n",
    "matrix[0][1] = 1\n",
    "print(matrix)\n",
    "print()\n",
    "\n",
    "matrix[1][0] = 0\n",
    "print(matrix)\n",
    "print()\n",
    "\n",
    "matrix[1][2] = 1 # Player \"1\" is forced to play centre right\n",
    "print(matrix)\n",
    "print()\n",
    "\n",
    "matrix[2][0] = 0\n",
    "print(matrix)\n",
    "print()\n",
    "\n",
    "matrix[0][0] = 1 # Player \"1\" is forced to play top left\n",
    "print(matrix)\n",
    "print()\n",
    "\n",
    "matrix[2][1] = 0\n",
    "print(matrix)\n",
    "print()\n",
    "\n",
    "matrix[2][2] = 1 # Player \"1\" is forced to play bottom right\n",
    "print(matrix)\n",
    "print()\n",
    "\n",
    "matrix[0][2] = 0 \n",
    "print(matrix)\n",
    "print()"
   ]
  },
  {
   "cell_type": "markdown",
   "id": "5e73928d-e2ec-4fe8-a911-d6b55478a857",
   "metadata": {},
   "source": [
    "As we can see, this results in a singular matrix and player \"1\" had to play three forcing moves, with the first move being their choice. I would claim that you could also always win with strategy in a 3x3 matrix."
   ]
  }
 ],
 "metadata": {
  "kernelspec": {
   "display_name": "Python 3 (ipykernel)",
   "language": "python",
   "name": "python3"
  },
  "language_info": {
   "codemirror_mode": {
    "name": "ipython",
    "version": 3
   },
   "file_extension": ".py",
   "mimetype": "text/x-python",
   "name": "python",
   "nbconvert_exporter": "python",
   "pygments_lexer": "ipython3",
   "version": "3.9.7"
  }
 },
 "nbformat": 4,
 "nbformat_minor": 5
}
